{
 "cells": [
  {
   "cell_type": "code",
   "execution_count": 1,
   "metadata": {
    "tags": []
   },
   "outputs": [],
   "source": [
    "import pandas as pd\n",
    "import numpy as np"
   ]
  },
  {
   "cell_type": "markdown",
   "metadata": {},
   "source": [
    "# Read a comma-separated values (csv) file into DataFrame.\n",
    "\n",
    "The data folder contains a file named \"newark_tree_data.csv\". Read this file into a dataframe.\n",
    "\n",
    "\n",
    "resources:\n",
    "* [Pandas read csv docs](https://pandas.pydata.org/pandas-docs/stable/reference/api/pandas.read_csv.html#pandas.read_csv)"
   ]
  },
  {
   "cell_type": "code",
   "execution_count": 2,
   "metadata": {
    "tags": []
   },
   "outputs": [],
   "source": [
    "# Create DataFrame here.\n",
    "df = pd.read_csv(\"newark_tree_data.csv\")"
   ]
  },
  {
   "cell_type": "code",
   "execution_count": 3,
   "metadata": {
    "tags": []
   },
   "outputs": [
    {
     "data": {
      "text/html": [
       "<div>\n",
       "<style scoped>\n",
       "    .dataframe tbody tr th:only-of-type {\n",
       "        vertical-align: middle;\n",
       "    }\n",
       "\n",
       "    .dataframe tbody tr th {\n",
       "        vertical-align: top;\n",
       "    }\n",
       "\n",
       "    .dataframe thead th {\n",
       "        text-align: right;\n",
       "    }\n",
       "</style>\n",
       "<table border=\"1\" class=\"dataframe\">\n",
       "  <thead>\n",
       "    <tr style=\"text-align: right;\">\n",
       "      <th></th>\n",
       "      <th>ID</th>\n",
       "      <th>ON</th>\n",
       "      <th>AREA</th>\n",
       "      <th>ADDRESS</th>\n",
       "      <th>STREET</th>\n",
       "      <th>SITE</th>\n",
       "      <th>SIDE</th>\n",
       "      <th>ASSIGNED</th>\n",
       "      <th>COMMON</th>\n",
       "      <th>BOTANICAL</th>\n",
       "      <th>...</th>\n",
       "      <th>IMPROPMULC</th>\n",
       "      <th>IMPROPPRUN</th>\n",
       "      <th>NUTRIENTD</th>\n",
       "      <th>PEST</th>\n",
       "      <th>GIRDLING</th>\n",
       "      <th>STRESS</th>\n",
       "      <th>OHUTILITY</th>\n",
       "      <th>TOP_HEIGHT</th>\n",
       "      <th>CROWN_M</th>\n",
       "      <th>CROWN_DIE</th>\n",
       "    </tr>\n",
       "  </thead>\n",
       "  <tbody>\n",
       "    <tr>\n",
       "      <th>0</th>\n",
       "      <td>11.0</td>\n",
       "      <td>Elan Park</td>\n",
       "      <td>Elan Park</td>\n",
       "      <td>2</td>\n",
       "      <td>Blue Hen Rg</td>\n",
       "      <td>11.0</td>\n",
       "      <td>Front</td>\n",
       "      <td>False</td>\n",
       "      <td>arborvitae, eastern</td>\n",
       "      <td>Thuja occidentalis</td>\n",
       "      <td>...</td>\n",
       "      <td>False</td>\n",
       "      <td>False</td>\n",
       "      <td>False</td>\n",
       "      <td>False</td>\n",
       "      <td>False</td>\n",
       "      <td>False</td>\n",
       "      <td>No</td>\n",
       "      <td>40</td>\n",
       "      <td>0-5%</td>\n",
       "      <td>0-5%</td>\n",
       "    </tr>\n",
       "    <tr>\n",
       "      <th>1</th>\n",
       "      <td>12.0</td>\n",
       "      <td>Elan Park</td>\n",
       "      <td>Elan Park</td>\n",
       "      <td>2</td>\n",
       "      <td>Blue Hen Rg</td>\n",
       "      <td>12.0</td>\n",
       "      <td>Front</td>\n",
       "      <td>False</td>\n",
       "      <td>arborvitae, eastern</td>\n",
       "      <td>Thuja occidentalis</td>\n",
       "      <td>...</td>\n",
       "      <td>False</td>\n",
       "      <td>False</td>\n",
       "      <td>False</td>\n",
       "      <td>False</td>\n",
       "      <td>False</td>\n",
       "      <td>False</td>\n",
       "      <td>No</td>\n",
       "      <td>41</td>\n",
       "      <td>0-5%</td>\n",
       "      <td>0-5%</td>\n",
       "    </tr>\n",
       "    <tr>\n",
       "      <th>2</th>\n",
       "      <td>13.0</td>\n",
       "      <td>Elan Park</td>\n",
       "      <td>Elan Park</td>\n",
       "      <td>2</td>\n",
       "      <td>Blue Hen Rg</td>\n",
       "      <td>13.0</td>\n",
       "      <td>Front</td>\n",
       "      <td>False</td>\n",
       "      <td>pine, eastern white</td>\n",
       "      <td>Pinus strobus</td>\n",
       "      <td>...</td>\n",
       "      <td>False</td>\n",
       "      <td>False</td>\n",
       "      <td>False</td>\n",
       "      <td>False</td>\n",
       "      <td>True</td>\n",
       "      <td>False</td>\n",
       "      <td>No</td>\n",
       "      <td>54</td>\n",
       "      <td>0-5%</td>\n",
       "      <td>6-10%</td>\n",
       "    </tr>\n",
       "    <tr>\n",
       "      <th>3</th>\n",
       "      <td>14.0</td>\n",
       "      <td>Elan Park</td>\n",
       "      <td>Elan Park</td>\n",
       "      <td>2</td>\n",
       "      <td>Blue Hen Rg</td>\n",
       "      <td>14.0</td>\n",
       "      <td>Front</td>\n",
       "      <td>False</td>\n",
       "      <td>whitecedar, Atlantic</td>\n",
       "      <td>Chamaecyparis thyoides</td>\n",
       "      <td>...</td>\n",
       "      <td>False</td>\n",
       "      <td>False</td>\n",
       "      <td>False</td>\n",
       "      <td>False</td>\n",
       "      <td>True</td>\n",
       "      <td>False</td>\n",
       "      <td>No</td>\n",
       "      <td>57</td>\n",
       "      <td>11-15%</td>\n",
       "      <td>26-30%</td>\n",
       "    </tr>\n",
       "    <tr>\n",
       "      <th>4</th>\n",
       "      <td>15.0</td>\n",
       "      <td>Elan Park</td>\n",
       "      <td>Elan Park</td>\n",
       "      <td>2</td>\n",
       "      <td>Blue Hen Rg</td>\n",
       "      <td>15.0</td>\n",
       "      <td>Front</td>\n",
       "      <td>False</td>\n",
       "      <td>whitecedar, Atlantic</td>\n",
       "      <td>Chamaecyparis thyoides</td>\n",
       "      <td>...</td>\n",
       "      <td>False</td>\n",
       "      <td>False</td>\n",
       "      <td>False</td>\n",
       "      <td>False</td>\n",
       "      <td>True</td>\n",
       "      <td>False</td>\n",
       "      <td>No</td>\n",
       "      <td>55</td>\n",
       "      <td>11-15%</td>\n",
       "      <td>21-25%</td>\n",
       "    </tr>\n",
       "    <tr>\n",
       "      <th>5</th>\n",
       "      <td>16.0</td>\n",
       "      <td>Elan Park</td>\n",
       "      <td>Elan Park</td>\n",
       "      <td>2</td>\n",
       "      <td>Blue Hen Rg</td>\n",
       "      <td>16.0</td>\n",
       "      <td>Front</td>\n",
       "      <td>False</td>\n",
       "      <td>pine, eastern white</td>\n",
       "      <td>Pinus strobus</td>\n",
       "      <td>...</td>\n",
       "      <td>False</td>\n",
       "      <td>False</td>\n",
       "      <td>False</td>\n",
       "      <td>False</td>\n",
       "      <td>True</td>\n",
       "      <td>False</td>\n",
       "      <td>No</td>\n",
       "      <td>55</td>\n",
       "      <td>6-10%</td>\n",
       "      <td>16-20%</td>\n",
       "    </tr>\n",
       "    <tr>\n",
       "      <th>6</th>\n",
       "      <td>17.0</td>\n",
       "      <td>Elan Park</td>\n",
       "      <td>Elan Park</td>\n",
       "      <td>2</td>\n",
       "      <td>Blue Hen Rg</td>\n",
       "      <td>17.0</td>\n",
       "      <td>Front</td>\n",
       "      <td>False</td>\n",
       "      <td>whitecedar, Atlantic</td>\n",
       "      <td>Chamaecyparis thyoides</td>\n",
       "      <td>...</td>\n",
       "      <td>False</td>\n",
       "      <td>False</td>\n",
       "      <td>False</td>\n",
       "      <td>False</td>\n",
       "      <td>True</td>\n",
       "      <td>False</td>\n",
       "      <td>No</td>\n",
       "      <td>55</td>\n",
       "      <td>21-25%</td>\n",
       "      <td>31-35%</td>\n",
       "    </tr>\n",
       "    <tr>\n",
       "      <th>7</th>\n",
       "      <td>18.0</td>\n",
       "      <td>Elan Park</td>\n",
       "      <td>Elan Park</td>\n",
       "      <td>2</td>\n",
       "      <td>Blue Hen Rg</td>\n",
       "      <td>18.0</td>\n",
       "      <td>Front</td>\n",
       "      <td>False</td>\n",
       "      <td>pine, eastern white</td>\n",
       "      <td>Pinus strobus</td>\n",
       "      <td>...</td>\n",
       "      <td>False</td>\n",
       "      <td>False</td>\n",
       "      <td>False</td>\n",
       "      <td>False</td>\n",
       "      <td>True</td>\n",
       "      <td>False</td>\n",
       "      <td>No</td>\n",
       "      <td>55</td>\n",
       "      <td>11-15%</td>\n",
       "      <td>11-15%</td>\n",
       "    </tr>\n",
       "    <tr>\n",
       "      <th>8</th>\n",
       "      <td>19.0</td>\n",
       "      <td>Elan Park</td>\n",
       "      <td>Elan Park</td>\n",
       "      <td>2</td>\n",
       "      <td>Blue Hen Rg</td>\n",
       "      <td>19.0</td>\n",
       "      <td>Front</td>\n",
       "      <td>False</td>\n",
       "      <td>arborvitae, eastern</td>\n",
       "      <td>Thuja occidentalis</td>\n",
       "      <td>...</td>\n",
       "      <td>False</td>\n",
       "      <td>False</td>\n",
       "      <td>False</td>\n",
       "      <td>False</td>\n",
       "      <td>False</td>\n",
       "      <td>False</td>\n",
       "      <td>No</td>\n",
       "      <td>56</td>\n",
       "      <td>11-15%</td>\n",
       "      <td>16-20%</td>\n",
       "    </tr>\n",
       "    <tr>\n",
       "      <th>9</th>\n",
       "      <td>20.0</td>\n",
       "      <td>Elan Park</td>\n",
       "      <td>Elan Park</td>\n",
       "      <td>2</td>\n",
       "      <td>Blue Hen Rg</td>\n",
       "      <td>20.0</td>\n",
       "      <td>Front</td>\n",
       "      <td>False</td>\n",
       "      <td>arborvitae, eastern</td>\n",
       "      <td>Thuja occidentalis</td>\n",
       "      <td>...</td>\n",
       "      <td>False</td>\n",
       "      <td>False</td>\n",
       "      <td>False</td>\n",
       "      <td>False</td>\n",
       "      <td>True</td>\n",
       "      <td>False</td>\n",
       "      <td>No</td>\n",
       "      <td>55</td>\n",
       "      <td>6-10%</td>\n",
       "      <td>11-15%</td>\n",
       "    </tr>\n",
       "  </tbody>\n",
       "</table>\n",
       "<p>10 rows × 54 columns</p>\n",
       "</div>"
      ],
      "text/plain": [
       "     ID         ON       AREA  ADDRESS       STREET  SITE   SIDE  ASSIGNED  \\\n",
       "0  11.0  Elan Park  Elan Park        2  Blue Hen Rg  11.0  Front     False   \n",
       "1  12.0  Elan Park  Elan Park        2  Blue Hen Rg  12.0  Front     False   \n",
       "2  13.0  Elan Park  Elan Park        2  Blue Hen Rg  13.0  Front     False   \n",
       "3  14.0  Elan Park  Elan Park        2  Blue Hen Rg  14.0  Front     False   \n",
       "4  15.0  Elan Park  Elan Park        2  Blue Hen Rg  15.0  Front     False   \n",
       "5  16.0  Elan Park  Elan Park        2  Blue Hen Rg  16.0  Front     False   \n",
       "6  17.0  Elan Park  Elan Park        2  Blue Hen Rg  17.0  Front     False   \n",
       "7  18.0  Elan Park  Elan Park        2  Blue Hen Rg  18.0  Front     False   \n",
       "8  19.0  Elan Park  Elan Park        2  Blue Hen Rg  19.0  Front     False   \n",
       "9  20.0  Elan Park  Elan Park        2  Blue Hen Rg  20.0  Front     False   \n",
       "\n",
       "                 COMMON               BOTANICAL  ... IMPROPMULC  IMPROPPRUN  \\\n",
       "0   arborvitae, eastern      Thuja occidentalis  ...      False       False   \n",
       "1   arborvitae, eastern      Thuja occidentalis  ...      False       False   \n",
       "2   pine, eastern white           Pinus strobus  ...      False       False   \n",
       "3  whitecedar, Atlantic  Chamaecyparis thyoides  ...      False       False   \n",
       "4  whitecedar, Atlantic  Chamaecyparis thyoides  ...      False       False   \n",
       "5   pine, eastern white           Pinus strobus  ...      False       False   \n",
       "6  whitecedar, Atlantic  Chamaecyparis thyoides  ...      False       False   \n",
       "7   pine, eastern white           Pinus strobus  ...      False       False   \n",
       "8   arborvitae, eastern      Thuja occidentalis  ...      False       False   \n",
       "9   arborvitae, eastern      Thuja occidentalis  ...      False       False   \n",
       "\n",
       "  NUTRIENTD   PEST GIRDLING STRESS  OHUTILITY  TOP_HEIGHT CROWN_M CROWN_DIE  \n",
       "0     False  False    False  False         No          40    0-5%      0-5%  \n",
       "1     False  False    False  False         No          41    0-5%      0-5%  \n",
       "2     False  False     True  False         No          54    0-5%     6-10%  \n",
       "3     False  False     True  False         No          57  11-15%    26-30%  \n",
       "4     False  False     True  False         No          55  11-15%    21-25%  \n",
       "5     False  False     True  False         No          55   6-10%    16-20%  \n",
       "6     False  False     True  False         No          55  21-25%    31-35%  \n",
       "7     False  False     True  False         No          55  11-15%    11-15%  \n",
       "8     False  False    False  False         No          56  11-15%    16-20%  \n",
       "9     False  False     True  False         No          55   6-10%    11-15%  \n",
       "\n",
       "[10 rows x 54 columns]"
      ]
     },
     "execution_count": 3,
     "metadata": {},
     "output_type": "execute_result"
    }
   ],
   "source": [
    "# Display the first few rows of the DataFrame here.\n",
    "df.head(10)"
   ]
  },
  {
   "cell_type": "code",
   "execution_count": 7,
   "metadata": {
    "tags": []
   },
   "outputs": [
    {
     "data": {
      "text/html": [
       "<div>\n",
       "<style scoped>\n",
       "    .dataframe tbody tr th:only-of-type {\n",
       "        vertical-align: middle;\n",
       "    }\n",
       "\n",
       "    .dataframe tbody tr th {\n",
       "        vertical-align: top;\n",
       "    }\n",
       "\n",
       "    .dataframe thead th {\n",
       "        text-align: right;\n",
       "    }\n",
       "</style>\n",
       "<table border=\"1\" class=\"dataframe\">\n",
       "  <thead>\n",
       "    <tr style=\"text-align: right;\">\n",
       "      <th></th>\n",
       "      <th>ID</th>\n",
       "      <th>ON</th>\n",
       "      <th>AREA</th>\n",
       "      <th>ADDRESS</th>\n",
       "      <th>STREET</th>\n",
       "      <th>SITE</th>\n",
       "      <th>SIDE</th>\n",
       "      <th>ASSIGNED</th>\n",
       "      <th>COMMON</th>\n",
       "      <th>BOTANICAL</th>\n",
       "      <th>...</th>\n",
       "      <th>IMPROPMULC</th>\n",
       "      <th>IMPROPPRUN</th>\n",
       "      <th>NUTRIENTD</th>\n",
       "      <th>PEST</th>\n",
       "      <th>GIRDLING</th>\n",
       "      <th>STRESS</th>\n",
       "      <th>OHUTILITY</th>\n",
       "      <th>TOP_HEIGHT</th>\n",
       "      <th>CROWN_M</th>\n",
       "      <th>CROWN_DIE</th>\n",
       "    </tr>\n",
       "  </thead>\n",
       "  <tbody>\n",
       "    <tr>\n",
       "      <th>0</th>\n",
       "      <td>11.0</td>\n",
       "      <td>Elan Park</td>\n",
       "      <td>Elan Park</td>\n",
       "      <td>2</td>\n",
       "      <td>Blue Hen Rg</td>\n",
       "      <td>11.0</td>\n",
       "      <td>Front</td>\n",
       "      <td>False</td>\n",
       "      <td>arborvitae, eastern</td>\n",
       "      <td>Thuja occidentalis</td>\n",
       "      <td>...</td>\n",
       "      <td>False</td>\n",
       "      <td>False</td>\n",
       "      <td>False</td>\n",
       "      <td>False</td>\n",
       "      <td>False</td>\n",
       "      <td>False</td>\n",
       "      <td>No</td>\n",
       "      <td>40</td>\n",
       "      <td>0-5%</td>\n",
       "      <td>0-5%</td>\n",
       "    </tr>\n",
       "    <tr>\n",
       "      <th>1</th>\n",
       "      <td>12.0</td>\n",
       "      <td>Elan Park</td>\n",
       "      <td>Elan Park</td>\n",
       "      <td>2</td>\n",
       "      <td>Blue Hen Rg</td>\n",
       "      <td>12.0</td>\n",
       "      <td>Front</td>\n",
       "      <td>False</td>\n",
       "      <td>arborvitae, eastern</td>\n",
       "      <td>Thuja occidentalis</td>\n",
       "      <td>...</td>\n",
       "      <td>False</td>\n",
       "      <td>False</td>\n",
       "      <td>False</td>\n",
       "      <td>False</td>\n",
       "      <td>False</td>\n",
       "      <td>False</td>\n",
       "      <td>No</td>\n",
       "      <td>41</td>\n",
       "      <td>0-5%</td>\n",
       "      <td>0-5%</td>\n",
       "    </tr>\n",
       "    <tr>\n",
       "      <th>2</th>\n",
       "      <td>13.0</td>\n",
       "      <td>Elan Park</td>\n",
       "      <td>Elan Park</td>\n",
       "      <td>2</td>\n",
       "      <td>Blue Hen Rg</td>\n",
       "      <td>13.0</td>\n",
       "      <td>Front</td>\n",
       "      <td>False</td>\n",
       "      <td>pine, eastern white</td>\n",
       "      <td>Pinus strobus</td>\n",
       "      <td>...</td>\n",
       "      <td>False</td>\n",
       "      <td>False</td>\n",
       "      <td>False</td>\n",
       "      <td>False</td>\n",
       "      <td>True</td>\n",
       "      <td>False</td>\n",
       "      <td>No</td>\n",
       "      <td>54</td>\n",
       "      <td>0-5%</td>\n",
       "      <td>6-10%</td>\n",
       "    </tr>\n",
       "    <tr>\n",
       "      <th>3</th>\n",
       "      <td>14.0</td>\n",
       "      <td>Elan Park</td>\n",
       "      <td>Elan Park</td>\n",
       "      <td>2</td>\n",
       "      <td>Blue Hen Rg</td>\n",
       "      <td>14.0</td>\n",
       "      <td>Front</td>\n",
       "      <td>False</td>\n",
       "      <td>whitecedar, Atlantic</td>\n",
       "      <td>Chamaecyparis thyoides</td>\n",
       "      <td>...</td>\n",
       "      <td>False</td>\n",
       "      <td>False</td>\n",
       "      <td>False</td>\n",
       "      <td>False</td>\n",
       "      <td>True</td>\n",
       "      <td>False</td>\n",
       "      <td>No</td>\n",
       "      <td>57</td>\n",
       "      <td>11-15%</td>\n",
       "      <td>26-30%</td>\n",
       "    </tr>\n",
       "    <tr>\n",
       "      <th>4</th>\n",
       "      <td>15.0</td>\n",
       "      <td>Elan Park</td>\n",
       "      <td>Elan Park</td>\n",
       "      <td>2</td>\n",
       "      <td>Blue Hen Rg</td>\n",
       "      <td>15.0</td>\n",
       "      <td>Front</td>\n",
       "      <td>False</td>\n",
       "      <td>whitecedar, Atlantic</td>\n",
       "      <td>Chamaecyparis thyoides</td>\n",
       "      <td>...</td>\n",
       "      <td>False</td>\n",
       "      <td>False</td>\n",
       "      <td>False</td>\n",
       "      <td>False</td>\n",
       "      <td>True</td>\n",
       "      <td>False</td>\n",
       "      <td>No</td>\n",
       "      <td>55</td>\n",
       "      <td>11-15%</td>\n",
       "      <td>21-25%</td>\n",
       "    </tr>\n",
       "    <tr>\n",
       "      <th>...</th>\n",
       "      <td>...</td>\n",
       "      <td>...</td>\n",
       "      <td>...</td>\n",
       "      <td>...</td>\n",
       "      <td>...</td>\n",
       "      <td>...</td>\n",
       "      <td>...</td>\n",
       "      <td>...</td>\n",
       "      <td>...</td>\n",
       "      <td>...</td>\n",
       "      <td>...</td>\n",
       "      <td>...</td>\n",
       "      <td>...</td>\n",
       "      <td>...</td>\n",
       "      <td>...</td>\n",
       "      <td>...</td>\n",
       "      <td>...</td>\n",
       "      <td>...</td>\n",
       "      <td>...</td>\n",
       "      <td>...</td>\n",
       "      <td>...</td>\n",
       "    </tr>\n",
       "    <tr>\n",
       "      <th>4188</th>\n",
       "      <td>4189.0</td>\n",
       "      <td>New London Rd</td>\n",
       "      <td>New London Road on EAST side North of Clevelan...</td>\n",
       "      <td>124</td>\n",
       "      <td>New London Rd</td>\n",
       "      <td>1.0</td>\n",
       "      <td>Front</td>\n",
       "      <td>False</td>\n",
       "      <td>Japanese pagodatree</td>\n",
       "      <td>Styphnolobium japonicum</td>\n",
       "      <td>...</td>\n",
       "      <td>False</td>\n",
       "      <td>False</td>\n",
       "      <td>False</td>\n",
       "      <td>False</td>\n",
       "      <td>False</td>\n",
       "      <td>False</td>\n",
       "      <td>No</td>\n",
       "      <td>50</td>\n",
       "      <td>16-20%</td>\n",
       "      <td>6-10%</td>\n",
       "    </tr>\n",
       "    <tr>\n",
       "      <th>4189</th>\n",
       "      <td>4190.0</td>\n",
       "      <td>New London Rd</td>\n",
       "      <td>New London Road on EAST side North of Clevelan...</td>\n",
       "      <td>126</td>\n",
       "      <td>New London Rd</td>\n",
       "      <td>1.0</td>\n",
       "      <td>Front</td>\n",
       "      <td>False</td>\n",
       "      <td>oak, sawtooth</td>\n",
       "      <td>Quercus acutissima</td>\n",
       "      <td>...</td>\n",
       "      <td>False</td>\n",
       "      <td>False</td>\n",
       "      <td>False</td>\n",
       "      <td>False</td>\n",
       "      <td>False</td>\n",
       "      <td>False</td>\n",
       "      <td>No</td>\n",
       "      <td>55</td>\n",
       "      <td>11-15%</td>\n",
       "      <td>6-10%</td>\n",
       "    </tr>\n",
       "    <tr>\n",
       "      <th>4190</th>\n",
       "      <td>4191.0</td>\n",
       "      <td>New London Rd</td>\n",
       "      <td>New London Road on EAST side North of Clevelan...</td>\n",
       "      <td>126</td>\n",
       "      <td>New London Rd</td>\n",
       "      <td>2.0</td>\n",
       "      <td>Front</td>\n",
       "      <td>False</td>\n",
       "      <td>Japanese pagodatree</td>\n",
       "      <td>Styphnolobium japonicum</td>\n",
       "      <td>...</td>\n",
       "      <td>False</td>\n",
       "      <td>False</td>\n",
       "      <td>False</td>\n",
       "      <td>False</td>\n",
       "      <td>False</td>\n",
       "      <td>False</td>\n",
       "      <td>No</td>\n",
       "      <td>45</td>\n",
       "      <td>16-20%</td>\n",
       "      <td>11-15%</td>\n",
       "    </tr>\n",
       "    <tr>\n",
       "      <th>4191</th>\n",
       "      <td>4192.0</td>\n",
       "      <td>Old Paper Mill Rd</td>\n",
       "      <td>Old Paper Mill Road Park</td>\n",
       "      <td>0</td>\n",
       "      <td>Old Paper Mill Rd</td>\n",
       "      <td>1.0</td>\n",
       "      <td>Front</td>\n",
       "      <td>False</td>\n",
       "      <td>sycamore, American</td>\n",
       "      <td>Platanus occidentalis</td>\n",
       "      <td>...</td>\n",
       "      <td>False</td>\n",
       "      <td>False</td>\n",
       "      <td>False</td>\n",
       "      <td>False</td>\n",
       "      <td>False</td>\n",
       "      <td>False</td>\n",
       "      <td>No</td>\n",
       "      <td>80</td>\n",
       "      <td>21-25%</td>\n",
       "      <td>6-10%</td>\n",
       "    </tr>\n",
       "    <tr>\n",
       "      <th>4192</th>\n",
       "      <td>4193.0</td>\n",
       "      <td>Old Paper Mill Rd</td>\n",
       "      <td>Old Paper Mill Road Park</td>\n",
       "      <td>0</td>\n",
       "      <td>Old Paper Mill Rd</td>\n",
       "      <td>2.0</td>\n",
       "      <td>Front</td>\n",
       "      <td>False</td>\n",
       "      <td>ash, white</td>\n",
       "      <td>Fraxinus americana</td>\n",
       "      <td>...</td>\n",
       "      <td>False</td>\n",
       "      <td>False</td>\n",
       "      <td>False</td>\n",
       "      <td>False</td>\n",
       "      <td>False</td>\n",
       "      <td>True</td>\n",
       "      <td>No</td>\n",
       "      <td>70</td>\n",
       "      <td>21-25%</td>\n",
       "      <td>11-15%</td>\n",
       "    </tr>\n",
       "  </tbody>\n",
       "</table>\n",
       "<p>4193 rows × 54 columns</p>\n",
       "</div>"
      ],
      "text/plain": [
       "          ID                 ON  \\\n",
       "0       11.0          Elan Park   \n",
       "1       12.0          Elan Park   \n",
       "2       13.0          Elan Park   \n",
       "3       14.0          Elan Park   \n",
       "4       15.0          Elan Park   \n",
       "...      ...                ...   \n",
       "4188  4189.0      New London Rd   \n",
       "4189  4190.0      New London Rd   \n",
       "4190  4191.0      New London Rd   \n",
       "4191  4192.0  Old Paper Mill Rd   \n",
       "4192  4193.0  Old Paper Mill Rd   \n",
       "\n",
       "                                                   AREA  ADDRESS  \\\n",
       "0                                             Elan Park        2   \n",
       "1                                             Elan Park        2   \n",
       "2                                             Elan Park        2   \n",
       "3                                             Elan Park        2   \n",
       "4                                             Elan Park        2   \n",
       "...                                                 ...      ...   \n",
       "4188  New London Road on EAST side North of Clevelan...      124   \n",
       "4189  New London Road on EAST side North of Clevelan...      126   \n",
       "4190  New London Road on EAST side North of Clevelan...      126   \n",
       "4191                           Old Paper Mill Road Park        0   \n",
       "4192                           Old Paper Mill Road Park        0   \n",
       "\n",
       "                 STREET  SITE   SIDE  ASSIGNED                COMMON  \\\n",
       "0           Blue Hen Rg  11.0  Front     False   arborvitae, eastern   \n",
       "1           Blue Hen Rg  12.0  Front     False   arborvitae, eastern   \n",
       "2           Blue Hen Rg  13.0  Front     False   pine, eastern white   \n",
       "3           Blue Hen Rg  14.0  Front     False  whitecedar, Atlantic   \n",
       "4           Blue Hen Rg  15.0  Front     False  whitecedar, Atlantic   \n",
       "...                 ...   ...    ...       ...                   ...   \n",
       "4188      New London Rd   1.0  Front     False   Japanese pagodatree   \n",
       "4189      New London Rd   1.0  Front     False         oak, sawtooth   \n",
       "4190      New London Rd   2.0  Front     False   Japanese pagodatree   \n",
       "4191  Old Paper Mill Rd   1.0  Front     False    sycamore, American   \n",
       "4192  Old Paper Mill Rd   2.0  Front     False            ash, white   \n",
       "\n",
       "                    BOTANICAL  ... IMPROPMULC  IMPROPPRUN NUTRIENTD   PEST  \\\n",
       "0          Thuja occidentalis  ...      False       False     False  False   \n",
       "1          Thuja occidentalis  ...      False       False     False  False   \n",
       "2               Pinus strobus  ...      False       False     False  False   \n",
       "3      Chamaecyparis thyoides  ...      False       False     False  False   \n",
       "4      Chamaecyparis thyoides  ...      False       False     False  False   \n",
       "...                       ...  ...        ...         ...       ...    ...   \n",
       "4188  Styphnolobium japonicum  ...      False       False     False  False   \n",
       "4189       Quercus acutissima  ...      False       False     False  False   \n",
       "4190  Styphnolobium japonicum  ...      False       False     False  False   \n",
       "4191    Platanus occidentalis  ...      False       False     False  False   \n",
       "4192       Fraxinus americana  ...      False       False     False  False   \n",
       "\n",
       "     GIRDLING STRESS  OHUTILITY  TOP_HEIGHT CROWN_M CROWN_DIE  \n",
       "0       False  False         No          40    0-5%      0-5%  \n",
       "1       False  False         No          41    0-5%      0-5%  \n",
       "2        True  False         No          54    0-5%     6-10%  \n",
       "3        True  False         No          57  11-15%    26-30%  \n",
       "4        True  False         No          55  11-15%    21-25%  \n",
       "...       ...    ...        ...         ...     ...       ...  \n",
       "4188    False  False         No          50  16-20%     6-10%  \n",
       "4189    False  False         No          55  11-15%     6-10%  \n",
       "4190    False  False         No          45  16-20%    11-15%  \n",
       "4191    False  False         No          80  21-25%     6-10%  \n",
       "4192    False   True         No          70  21-25%    11-15%  \n",
       "\n",
       "[4193 rows x 54 columns]"
      ]
     },
     "execution_count": 7,
     "metadata": {},
     "output_type": "execute_result"
    }
   ],
   "source": [
    "# How many columns does the DataFrame contain?\n",
    "df"
   ]
  },
  {
   "cell_type": "code",
   "execution_count": 6,
   "metadata": {
    "tags": []
   },
   "outputs": [
    {
     "name": "stdout",
     "output_type": "stream",
     "text": [
      "<class 'pandas.core.frame.DataFrame'>\n",
      "RangeIndex: 4193 entries, 0 to 4192\n",
      "Data columns (total 54 columns):\n",
      " #   Column      Non-Null Count  Dtype  \n",
      "---  ------      --------------  -----  \n",
      " 0   ID          4193 non-null   float64\n",
      " 1   ON          4193 non-null   object \n",
      " 2   AREA        4169 non-null   object \n",
      " 3   ADDRESS     4193 non-null   int64  \n",
      " 4   STREET      4193 non-null   object \n",
      " 5   SITE        4193 non-null   float64\n",
      " 6   SIDE        4193 non-null   object \n",
      " 7   ASSIGNED    4193 non-null   bool   \n",
      " 8   COMMON      4193 non-null   object \n",
      " 9   BOTANICAL   4193 non-null   object \n",
      " 10  CULTIVAR    113 non-null    object \n",
      " 11  DBH         4193 non-null   float64\n",
      " 12  REMOVAL     434 non-null    object \n",
      " 13  STEMS       4193 non-null   float64\n",
      " 14  COND        4087 non-null   object \n",
      " 15  MAINTPRIM   101 non-null    object \n",
      " 16  OBSERVE     0 non-null      float64\n",
      " 17  INSPECT     4193 non-null   bool   \n",
      " 18  LOCATION    4193 non-null   object \n",
      " 19  NOTES       1114 non-null   object \n",
      " 20  DATE        4193 non-null   object \n",
      " 21  TIME        4193 non-null   object \n",
      " 22  STAFF       4193 non-null   object \n",
      " 23  XCOORD      4193 non-null   float64\n",
      " 24  YCOORD      4193 non-null   float64\n",
      " 25  FAILURE     4087 non-null   object \n",
      " 26  LIKELIHOOD  4087 non-null   object \n",
      " 27  TARGET      4087 non-null   object \n",
      " 28  CONSEQ      4087 non-null   object \n",
      " 29  RISK        4087 non-null   object \n",
      " 30  UNIQUEID    4193 non-null   object \n",
      " 31  EDITTIME    4193 non-null   object \n",
      " 32  SPREAD      4193 non-null   int64  \n",
      " 33  HEIGHT      4193 non-null   int64  \n",
      " 34  CLEARANCE   36 non-null     object \n",
      " 35  DECAYCL     4193 non-null   bool   \n",
      " 36  DECAYT      4193 non-null   bool   \n",
      " 37  DECAYRF     4193 non-null   bool   \n",
      " 38  DAMC        4193 non-null   bool   \n",
      " 39  DAMT        4193 non-null   bool   \n",
      " 40  DAMRF       4193 non-null   bool   \n",
      " 41  CAVITYCL    4193 non-null   bool   \n",
      " 42  CAVITYT     4193 non-null   bool   \n",
      " 43  CAVITYRF    4193 non-null   bool   \n",
      " 44  IMPROPMULC  4193 non-null   bool   \n",
      " 45  IMPROPPRUN  4193 non-null   bool   \n",
      " 46  NUTRIENTD   4193 non-null   bool   \n",
      " 47  PEST        4193 non-null   bool   \n",
      " 48  GIRDLING    4193 non-null   bool   \n",
      " 49  STRESS      4193 non-null   bool   \n",
      " 50  OHUTILITY   4193 non-null   object \n",
      " 51  TOP_HEIGHT  4193 non-null   int64  \n",
      " 52  CROWN_M     4187 non-null   object \n",
      " 53  CROWN_DIE   4185 non-null   object \n",
      "dtypes: bool(17), float64(7), int64(4), object(26)\n",
      "memory usage: 1.3+ MB\n"
     ]
    }
   ],
   "source": [
    "# What attributes (columns) does this DataFrame contain?\n",
    "df.info()"
   ]
  },
  {
   "cell_type": "markdown",
   "metadata": {},
   "source": [
    "Upon reviewing the columns of the DataFrame, we see that there is already a column named ID that is well suited for an index column.  \n",
    "\n",
    "For the purposes of this lab, we are only going to need a few of the available attributes. The attributes we wish to keep are listed below:\n",
    "* ID\n",
    "* UNIQUEID\n",
    "* COMMON\n",
    "* BOTANICAL\n",
    "* COND\n",
    "* RISK\n",
    "* HEIGHT\n",
    "\n",
    "Let's provide the index_col and the usecols args when we invoke the read_csv method."
   ]
  },
  {
   "cell_type": "code",
   "execution_count": 402,
   "metadata": {
    "tags": []
   },
   "outputs": [],
   "source": [
    "# Create the new DataFrame here.\n",
    "df2 = pd.read_csv(\"newark_tree_data.csv\", index_col=0, usecols=['ID', 'UNIQUEID', 'COMMON', 'BOTANICAL', 'COND', 'RISK', 'HEIGHT'])"
   ]
  },
  {
   "cell_type": "code",
   "execution_count": 403,
   "metadata": {
    "tags": []
   },
   "outputs": [
    {
     "data": {
      "text/html": [
       "<div>\n",
       "<style scoped>\n",
       "    .dataframe tbody tr th:only-of-type {\n",
       "        vertical-align: middle;\n",
       "    }\n",
       "\n",
       "    .dataframe tbody tr th {\n",
       "        vertical-align: top;\n",
       "    }\n",
       "\n",
       "    .dataframe thead th {\n",
       "        text-align: right;\n",
       "    }\n",
       "</style>\n",
       "<table border=\"1\" class=\"dataframe\">\n",
       "  <thead>\n",
       "    <tr style=\"text-align: right;\">\n",
       "      <th></th>\n",
       "      <th>COMMON</th>\n",
       "      <th>BOTANICAL</th>\n",
       "      <th>COND</th>\n",
       "      <th>RISK</th>\n",
       "      <th>UNIQUEID</th>\n",
       "      <th>HEIGHT</th>\n",
       "    </tr>\n",
       "    <tr>\n",
       "      <th>ID</th>\n",
       "      <th></th>\n",
       "      <th></th>\n",
       "      <th></th>\n",
       "      <th></th>\n",
       "      <th></th>\n",
       "      <th></th>\n",
       "    </tr>\n",
       "  </thead>\n",
       "  <tbody>\n",
       "    <tr>\n",
       "      <th>11.0</th>\n",
       "      <td>arborvitae, eastern</td>\n",
       "      <td>Thuja occidentalis</td>\n",
       "      <td>Good</td>\n",
       "      <td>Low</td>\n",
       "      <td>LM 20150929141218</td>\n",
       "      <td>40</td>\n",
       "    </tr>\n",
       "    <tr>\n",
       "      <th>12.0</th>\n",
       "      <td>arborvitae, eastern</td>\n",
       "      <td>Thuja occidentalis</td>\n",
       "      <td>Very Good</td>\n",
       "      <td>Low</td>\n",
       "      <td>LM 20150929141418</td>\n",
       "      <td>40</td>\n",
       "    </tr>\n",
       "    <tr>\n",
       "      <th>13.0</th>\n",
       "      <td>pine, eastern white</td>\n",
       "      <td>Pinus strobus</td>\n",
       "      <td>Good</td>\n",
       "      <td>Low</td>\n",
       "      <td>LM 20150929141844</td>\n",
       "      <td>54</td>\n",
       "    </tr>\n",
       "    <tr>\n",
       "      <th>14.0</th>\n",
       "      <td>whitecedar, Atlantic</td>\n",
       "      <td>Chamaecyparis thyoides</td>\n",
       "      <td>Fair</td>\n",
       "      <td>Low</td>\n",
       "      <td>LM 20150929142424</td>\n",
       "      <td>56</td>\n",
       "    </tr>\n",
       "    <tr>\n",
       "      <th>15.0</th>\n",
       "      <td>whitecedar, Atlantic</td>\n",
       "      <td>Chamaecyparis thyoides</td>\n",
       "      <td>Fair</td>\n",
       "      <td>Low</td>\n",
       "      <td>LM 20150929143018</td>\n",
       "      <td>55</td>\n",
       "    </tr>\n",
       "    <tr>\n",
       "      <th>16.0</th>\n",
       "      <td>pine, eastern white</td>\n",
       "      <td>Pinus strobus</td>\n",
       "      <td>Fair</td>\n",
       "      <td>Low</td>\n",
       "      <td>LM 20150929143352</td>\n",
       "      <td>55</td>\n",
       "    </tr>\n",
       "    <tr>\n",
       "      <th>17.0</th>\n",
       "      <td>whitecedar, Atlantic</td>\n",
       "      <td>Chamaecyparis thyoides</td>\n",
       "      <td>Fair</td>\n",
       "      <td>Low</td>\n",
       "      <td>LM 20150929143905</td>\n",
       "      <td>55</td>\n",
       "    </tr>\n",
       "    <tr>\n",
       "      <th>18.0</th>\n",
       "      <td>pine, eastern white</td>\n",
       "      <td>Pinus strobus</td>\n",
       "      <td>Fair</td>\n",
       "      <td>Low</td>\n",
       "      <td>LM 20150929144155</td>\n",
       "      <td>55</td>\n",
       "    </tr>\n",
       "    <tr>\n",
       "      <th>19.0</th>\n",
       "      <td>arborvitae, eastern</td>\n",
       "      <td>Thuja occidentalis</td>\n",
       "      <td>Fair</td>\n",
       "      <td>Low</td>\n",
       "      <td>LM 20150929144438</td>\n",
       "      <td>55</td>\n",
       "    </tr>\n",
       "    <tr>\n",
       "      <th>20.0</th>\n",
       "      <td>arborvitae, eastern</td>\n",
       "      <td>Thuja occidentalis</td>\n",
       "      <td>Fair</td>\n",
       "      <td>Low</td>\n",
       "      <td>LM 20150929144602</td>\n",
       "      <td>55</td>\n",
       "    </tr>\n",
       "  </tbody>\n",
       "</table>\n",
       "</div>"
      ],
      "text/plain": [
       "                    COMMON               BOTANICAL       COND RISK  \\\n",
       "ID                                                                   \n",
       "11.0   arborvitae, eastern      Thuja occidentalis       Good  Low   \n",
       "12.0   arborvitae, eastern      Thuja occidentalis  Very Good  Low   \n",
       "13.0   pine, eastern white           Pinus strobus       Good  Low   \n",
       "14.0  whitecedar, Atlantic  Chamaecyparis thyoides       Fair  Low   \n",
       "15.0  whitecedar, Atlantic  Chamaecyparis thyoides       Fair  Low   \n",
       "16.0   pine, eastern white           Pinus strobus       Fair  Low   \n",
       "17.0  whitecedar, Atlantic  Chamaecyparis thyoides       Fair  Low   \n",
       "18.0   pine, eastern white           Pinus strobus       Fair  Low   \n",
       "19.0   arborvitae, eastern      Thuja occidentalis       Fair  Low   \n",
       "20.0   arborvitae, eastern      Thuja occidentalis       Fair  Low   \n",
       "\n",
       "               UNIQUEID  HEIGHT  \n",
       "ID                               \n",
       "11.0  LM 20150929141218      40  \n",
       "12.0  LM 20150929141418      40  \n",
       "13.0  LM 20150929141844      54  \n",
       "14.0  LM 20150929142424      56  \n",
       "15.0  LM 20150929143018      55  \n",
       "16.0  LM 20150929143352      55  \n",
       "17.0  LM 20150929143905      55  \n",
       "18.0  LM 20150929144155      55  \n",
       "19.0  LM 20150929144438      55  \n",
       "20.0  LM 20150929144602      55  "
      ]
     },
     "execution_count": 403,
     "metadata": {},
     "output_type": "execute_result"
    }
   ],
   "source": [
    "# Display the first few rows of the new DataFrame here.\n",
    "df2.head(10)"
   ]
  },
  {
   "cell_type": "markdown",
   "metadata": {},
   "source": [
    "The data narritive specifies that 4,193 sites were inventoried. Use the DataFrame shape attribute to verify the number of rows."
   ]
  },
  {
   "cell_type": "code",
   "execution_count": 404,
   "metadata": {
    "tags": []
   },
   "outputs": [
    {
     "name": "stdout",
     "output_type": "stream",
     "text": [
      "<class 'pandas.core.frame.DataFrame'>\n",
      "Index: 4193 entries, 11.0 to 4193.0\n",
      "Data columns (total 6 columns):\n",
      " #   Column     Non-Null Count  Dtype \n",
      "---  ------     --------------  ----- \n",
      " 0   COMMON     4193 non-null   object\n",
      " 1   BOTANICAL  4193 non-null   object\n",
      " 2   COND       4087 non-null   object\n",
      " 3   RISK       4087 non-null   object\n",
      " 4   UNIQUEID   4193 non-null   object\n",
      " 5   HEIGHT     4193 non-null   int64 \n",
      "dtypes: int64(1), object(5)\n",
      "memory usage: 229.3+ KB\n"
     ]
    }
   ],
   "source": [
    "# How many rows does your DataFrame contain.\n",
    "df2.info()"
   ]
  },
  {
   "cell_type": "markdown",
   "metadata": {},
   "source": [
    "Let's look at the distribution of data for the HEIGHT attribute."
   ]
  },
  {
   "cell_type": "code",
   "execution_count": 405,
   "metadata": {
    "tags": []
   },
   "outputs": [
    {
     "data": {
      "text/plain": [
       "0"
      ]
     },
     "execution_count": 405,
     "metadata": {},
     "output_type": "execute_result"
    }
   ],
   "source": [
    "# What is the min height?\n",
    "df2['HEIGHT'].min()"
   ]
  },
  {
   "cell_type": "code",
   "execution_count": 406,
   "metadata": {
    "tags": []
   },
   "outputs": [
    {
     "data": {
      "text/plain": [
       "140"
      ]
     },
     "execution_count": 406,
     "metadata": {},
     "output_type": "execute_result"
    }
   ],
   "source": [
    "# What is the max height?\n",
    "df2['HEIGHT'].max()"
   ]
  },
  {
   "cell_type": "code",
   "execution_count": 407,
   "metadata": {
    "tags": []
   },
   "outputs": [
    {
     "data": {
      "text/html": [
       "<div>\n",
       "<style scoped>\n",
       "    .dataframe tbody tr th:only-of-type {\n",
       "        vertical-align: middle;\n",
       "    }\n",
       "\n",
       "    .dataframe tbody tr th {\n",
       "        vertical-align: top;\n",
       "    }\n",
       "\n",
       "    .dataframe thead th {\n",
       "        text-align: right;\n",
       "    }\n",
       "</style>\n",
       "<table border=\"1\" class=\"dataframe\">\n",
       "  <thead>\n",
       "    <tr style=\"text-align: right;\">\n",
       "      <th></th>\n",
       "      <th>HEIGHT</th>\n",
       "    </tr>\n",
       "  </thead>\n",
       "  <tbody>\n",
       "    <tr>\n",
       "      <th>count</th>\n",
       "      <td>4193.000000</td>\n",
       "    </tr>\n",
       "    <tr>\n",
       "      <th>mean</th>\n",
       "      <td>55.311472</td>\n",
       "    </tr>\n",
       "    <tr>\n",
       "      <th>std</th>\n",
       "      <td>36.293489</td>\n",
       "    </tr>\n",
       "    <tr>\n",
       "      <th>min</th>\n",
       "      <td>0.000000</td>\n",
       "    </tr>\n",
       "    <tr>\n",
       "      <th>25%</th>\n",
       "      <td>23.000000</td>\n",
       "    </tr>\n",
       "    <tr>\n",
       "      <th>50%</th>\n",
       "      <td>50.000000</td>\n",
       "    </tr>\n",
       "    <tr>\n",
       "      <th>75%</th>\n",
       "      <td>86.000000</td>\n",
       "    </tr>\n",
       "    <tr>\n",
       "      <th>max</th>\n",
       "      <td>140.000000</td>\n",
       "    </tr>\n",
       "  </tbody>\n",
       "</table>\n",
       "</div>"
      ],
      "text/plain": [
       "            HEIGHT\n",
       "count  4193.000000\n",
       "mean     55.311472\n",
       "std      36.293489\n",
       "min       0.000000\n",
       "25%      23.000000\n",
       "50%      50.000000\n",
       "75%      86.000000\n",
       "max     140.000000"
      ]
     },
     "execution_count": 407,
     "metadata": {},
     "output_type": "execute_result"
    }
   ],
   "source": [
    "# How do we acquire count, mean, standard deviation, and distribution information from the DataFrame \n",
    "# by invoking a single method?\n",
    "df2.describe()"
   ]
  },
  {
   "cell_type": "markdown",
   "metadata": {},
   "source": [
    "# Plot a histogram using the HEIGHT attribute. \n",
    "\n",
    "resources:\n",
    "* [Magic commands](https://ipython.readthedocs.io/en/stable/interactive/magics.html)\n",
    "* [Pandas Series Hist](https://pandas.pydata.org/pandas-docs/stable/reference/api/pandas.Series.plot.hist.html#pandas.Series.plot.hist)"
   ]
  },
  {
   "cell_type": "code",
   "execution_count": 408,
   "metadata": {
    "tags": []
   },
   "outputs": [],
   "source": [
    "# Apply magic command to display matplotlib images inline\n",
    "from matplotlib import pyplot as plt\n",
    "%matplotlib inline"
   ]
  },
  {
   "cell_type": "code",
   "execution_count": 409,
   "metadata": {
    "tags": []
   },
   "outputs": [
    {
     "data": {
      "text/plain": [
       "(array([1103.,  935.,  839.,  661.]),\n",
       " array([  0.,  25.,  50.,  75., 100.]),\n",
       " <BarContainer object of 4 artists>)"
      ]
     },
     "execution_count": 409,
     "metadata": {},
     "output_type": "execute_result"
    },
    {
     "data": {
      "image/png": "[encoded data removed]",
      "text/plain": [
       "<Figure size 1000x700 with 1 Axes>"
      ]
     },
     "metadata": {},
     "output_type": "display_data"
    }
   ],
   "source": [
    "# Create a histogram using the HEIGHT attribute here\n",
    "fig, ax = plt.subplots(figsize =(10,7))\n",
    "ax.hist(df2['HEIGHT'], bins = [0, 25, 50, 75, 100])"
   ]
  },
  {
   "cell_type": "markdown",
   "metadata": {},
   "source": [
    "The data narrative specifies the following:\n",
    "\"A total of 4,193 sites were inventoried, including 4,087 trees, 100 stumps, and 6 vacant planting sites\"\n",
    "\n",
    "Earlier, we were able to validate the total number of entries in the DataFrame. Let's now dig in a bit deeper and validate the stumps and vacant planting sites."
   ]
  },
  {
   "cell_type": "code",
   "execution_count": 410,
   "metadata": {
    "tags": []
   },
   "outputs": [],
   "source": [
    "df2 = df2.fillna('None')"
   ]
  },
  {
   "cell_type": "code",
   "execution_count": 411,
   "metadata": {
    "tags": []
   },
   "outputs": [
    {
     "name": "stdout",
     "output_type": "stream",
     "text": [
      "<class 'pandas.core.frame.DataFrame'>\n",
      "Index: 4193 entries, 11.0 to 4193.0\n",
      "Data columns (total 6 columns):\n",
      " #   Column     Non-Null Count  Dtype \n",
      "---  ------     --------------  ----- \n",
      " 0   COMMON     4193 non-null   object\n",
      " 1   BOTANICAL  4193 non-null   object\n",
      " 2   COND       4193 non-null   object\n",
      " 3   RISK       4193 non-null   object\n",
      " 4   UNIQUEID   4193 non-null   object\n",
      " 5   HEIGHT     4193 non-null   int64 \n",
      "dtypes: int64(1), object(5)\n",
      "memory usage: 229.3+ KB\n"
     ]
    }
   ],
   "source": [
    "df2.info()"
   ]
  },
  {
   "cell_type": "code",
   "execution_count": 412,
   "metadata": {
    "tags": []
   },
   "outputs": [
    {
     "name": "stdout",
     "output_type": "stream",
     "text": [
      "Abies balsamea\n",
      "Acer campestre\n",
      "Acer griseum\n",
      "Acer negundo\n",
      "Acer nigrum\n",
      "Acer palmatum\n",
      "Acer platanoides\n",
      "Acer rubrum\n",
      "Acer saccharinum\n",
      "Acer saccharum\n",
      "Acer tataricum\n",
      "Acer tataricum ginnala\n",
      "Aesculus flava\n",
      "Aesculus x carnea\n",
      "Ailanthus altissima\n",
      "Albizia julibrissin\n",
      "Alnus glutinosa\n",
      "Amelanchier canadensis\n",
      "Amelanchier laevis\n",
      "Amelanchier spp.\n",
      "Betula lenta\n",
      "Betula nigra\n",
      "Carpinus caroliniana\n",
      "Carya cordiformis\n",
      "Carya glabra\n",
      "Carya laciniosa\n",
      "Carya spp.\n",
      "Carya tomentosa\n",
      "Castanea mollissima\n",
      "Catalpa speciosa\n",
      "Cedrus atlantica\n",
      "Cedrus deodara\n",
      "Celtis occidentalis\n",
      "Cercidiphyllum japonicum\n",
      "Cercis canadensis\n",
      "Chamaecyparis spp.\n",
      "Chamaecyparis thyoides\n",
      "Chionanthus retusus\n",
      "Cladrastis kentukea\n",
      "Cornus florida\n",
      "Cornus kousa\n",
      "Cornus mas\n",
      "Cornus spp.\n",
      "Cotinus coggygria\n",
      "Crataegus spp.\n",
      "Cryptomeria japonica\n",
      "Cunninghamia lanceolata\n",
      "Diospyros virginiana\n",
      "Elaeagnus angustifolia\n",
      "Elaeagnus umbellata\n",
      "Eucommia ulmoides\n",
      "Fagus grandifolia\n",
      "Fagus sylvatica\n",
      "Franklinia alatamaha\n",
      "Fraxinus americana\n",
      "Fraxinus caroliniana\n",
      "Fraxinus pennsylvanica\n",
      "Ginkgo biloba\n",
      "Gleditsia triacanthos\n",
      "Gleditsia triacanthos inermis\n",
      "Gymnocladus dioicus\n",
      "Halesia tetraptera\n",
      "Hamamelis virginiana\n",
      "Hovenia dulcis\n",
      "Ilex cornuta\n",
      "Ilex opaca\n",
      "Ilex spp.\n",
      "Juglans nigra\n",
      "Juglans regia\n",
      "Juniperus spp.\n",
      "Juniperus virginiana\n",
      "Koelreuteria paniculata\n",
      "Lagerstroemia indica\n",
      "Liquidambar styraciflua\n",
      "Liriodendron tulipifera\n",
      "Lonicera spp.\n",
      "Maclura pomifera\n",
      "Magnolia grandiflora\n",
      "Magnolia spp.\n",
      "Magnolia stellata\n",
      "Magnolia tripetala\n",
      "Magnolia virginiana\n",
      "Magnolia x soulangiana\n",
      "Malus spp.\n",
      "Manilkara roxburghiana\n",
      "Metasequoia glyptostroboides\n",
      "Morus alba\n",
      "Morus rubra\n",
      "Nyssa aquatica\n",
      "Nyssa sylvatica\n",
      "Ochna serrulata\n",
      "Ostrya japonica\n",
      "Parrotia persica\n",
      "Paulownia tomentosa\n",
      "Phellodendron amurense\n",
      "Picea abies\n",
      "Picea glauca\n",
      "Picea omorika\n",
      "Picea pungens\n",
      "Picea rubens\n",
      "Pinus cembra\n",
      "Pinus nigra\n",
      "Pinus parviflora\n",
      "Pinus strobus\n",
      "Pinus taeda\n",
      "Pinus thunbergii\n",
      "Pinus virginiana\n",
      "Platanus occidentalis\n",
      "Platanus x acerifolia\n",
      "Prunus sargentii\n",
      "Prunus serotina\n",
      "Prunus serrulata\n",
      "Prunus spp.\n",
      "Pseudotsuga menziesii\n",
      "Pterocarya fraxinifolia\n",
      "Pyrus calleryana\n",
      "Quercus acutissima\n",
      "Quercus alba\n",
      "Quercus bicolor\n",
      "Quercus coccinea\n",
      "Quercus falcata\n",
      "Quercus imbricaria\n",
      "Quercus margaretta\n",
      "Quercus palustris\n",
      "Quercus phellos\n",
      "Quercus prinus\n",
      "Quercus rubra\n",
      "Quercus spp.\n",
      "Quercus stellata\n",
      "Quercus velutina\n",
      "Rhamnus cathartica\n",
      "Robinia pseudoacacia\n",
      "Salix nigra\n",
      "Salix spp.\n",
      "Sassafras albidum\n",
      "Styphnolobium japonicum\n",
      "Styrax japonicus\n",
      "Syringa reticulata\n",
      "Taxodium ascendens\n",
      "Taxodium distichum\n",
      "Taxus spp.\n",
      "Thuja occidentalis\n",
      "Thuja spp.\n",
      "Tibouchina grandiflora\n",
      "Tilia americana\n",
      "Tilia cordata\n",
      "Tsuga candensis\n",
      "Tsuga caroliniana\n",
      "Ulmus americana\n",
      "Ulmus carpinifolia\n",
      "Ulmus parvifolia\n",
      "Ulmus pumila\n",
      "Ulmus rubra\n",
      "Viburnum spp.\n",
      "X Cupressocyparis leylandii\n",
      "Zelkova serrata\n",
      "stump\n",
      "unknown tree\n",
      "vacant site large\n"
     ]
    }
   ],
   "source": [
    "# How many entries are stumps\n",
    "for i in sorted(df2['BOTANICAL'].unique()):\n",
    "    print(i)"
   ]
  },
  {
   "cell_type": "code",
   "execution_count": 413,
   "metadata": {
    "tags": []
   },
   "outputs": [
    {
     "data": {
      "text/plain": [
       "100"
      ]
     },
     "execution_count": 413,
     "metadata": {},
     "output_type": "execute_result"
    }
   ],
   "source": [
    "# How many entries are stumps\n",
    "stumps = (df2['BOTANICAL'] == 'stump').sum()\n",
    "stumps"
   ]
  },
  {
   "cell_type": "code",
   "execution_count": 414,
   "metadata": {
    "tags": []
   },
   "outputs": [
    {
     "data": {
      "text/plain": [
       "6"
      ]
     },
     "execution_count": 414,
     "metadata": {},
     "output_type": "execute_result"
    }
   ],
   "source": [
    "# How many entries are vacant sites\n",
    "vacant_sites = (df2['BOTANICAL'] =='vacant site large').sum()\n",
    "vacant_sites"
   ]
  },
  {
   "cell_type": "code",
   "execution_count": 415,
   "metadata": {
    "tags": []
   },
   "outputs": [
    {
     "data": {
      "text/plain": [
       "4087"
      ]
     },
     "execution_count": 415,
     "metadata": {},
     "output_type": "execute_result"
    }
   ],
   "source": [
    "# Do these number add up?\n",
    "\n",
    "(df2['BOTANICAL']).count() - (stumps + vacant_sites)"
   ]
  },
  {
   "cell_type": "markdown",
   "metadata": {},
   "source": [
    "# Plot a bar graph using the COND attribute.\n",
    "\n",
    "resources:\n",
    "* [Pandas Series Bar](https://pandas.pydata.org/pandas-docs/stable/reference/api/pandas.Series.plot.bar.html#pandas.Series.plot.bar)"
   ]
  },
  {
   "cell_type": "code",
   "execution_count": 416,
   "metadata": {
    "tags": []
   },
   "outputs": [
    {
     "name": "stdout",
     "output_type": "stream",
     "text": [
      "<class 'pandas.core.frame.DataFrame'>\n",
      "Index: 4193 entries, 11.0 to 4193.0\n",
      "Data columns (total 6 columns):\n",
      " #   Column     Non-Null Count  Dtype \n",
      "---  ------     --------------  ----- \n",
      " 0   COMMON     4193 non-null   object\n",
      " 1   BOTANICAL  4193 non-null   object\n",
      " 2   COND       4193 non-null   object\n",
      " 3   RISK       4193 non-null   object\n",
      " 4   UNIQUEID   4193 non-null   object\n",
      " 5   HEIGHT     4193 non-null   int64 \n",
      "dtypes: int64(1), object(5)\n",
      "memory usage: 229.3+ KB\n"
     ]
    }
   ],
   "source": [
    "# How can we determine all of the possible values describing the condition of a tree and their associated counts?\n",
    "df2.info()"
   ]
  },
  {
   "cell_type": "code",
   "execution_count": 417,
   "metadata": {
    "tags": []
   },
   "outputs": [
    {
     "data": {
      "text/plain": [
       "['Good',\n",
       " 'Very Good',\n",
       " 'Fair',\n",
       " 'Poor',\n",
       " 'Dead',\n",
       " 'Critical',\n",
       " 'None',\n",
       " 'Very Poor',\n",
       " 'Excellent']"
      ]
     },
     "execution_count": 417,
     "metadata": {},
     "output_type": "execute_result"
    }
   ],
   "source": [
    "# How can we determine all of the possible values describing the condition of a tree and their associated counts?\n",
    "conditions = df2['COND'].unique().tolist()\n",
    "conditions"
   ]
  },
  {
   "cell_type": "code",
   "execution_count": 418,
   "metadata": {
    "tags": []
   },
   "outputs": [],
   "source": [
    "# How can we determine all of the possible values describing the condition of a tree and their associated counts?\n",
    "good = (df2['COND'] == 'Good').sum()\n",
    "good\n",
    "very_good = (df2['COND'] == 'Very Good').sum()\n",
    "very_good\n",
    "fair = (df2['COND'] == 'Fair').sum()\n",
    "fair\n",
    "poor = (df2['COND'] == 'Poor').sum()\n",
    "poor\n",
    "dead = (df2['COND'] == 'Dead').sum()\n",
    "critical = (df2['COND'] == 'Critical').sum()\n",
    "critical\n",
    "nothing = (df2['COND'] == 'None').sum()\n",
    "nothing\n",
    "very_poor = (df2['COND'] == 'Very Poor').sum()\n",
    "very_poor\n",
    "excellent = (df2['COND'] == 'Excellent').sum()\n",
    "excellent\n",
    "counts = [good, very_good, fair, poor, dead, critical, nothing, very_poor, excellent]"
   ]
  },
  {
   "cell_type": "code",
   "execution_count": 419,
   "metadata": {
    "tags": []
   },
   "outputs": [],
   "source": [
    "# Were these already in the order you would want them to be in order for a graph to make sense? \n",
    "# If not, reorder  the Series.\n",
    "df3 = pd.DataFrame({'Condition':conditions, 'Count': counts})\n"
   ]
  },
  {
   "cell_type": "code",
   "execution_count": 420,
   "metadata": {
    "tags": []
   },
   "outputs": [
    {
     "data": {
      "text/html": [
       "<div>\n",
       "<style scoped>\n",
       "    .dataframe tbody tr th:only-of-type {\n",
       "        vertical-align: middle;\n",
       "    }\n",
       "\n",
       "    .dataframe tbody tr th {\n",
       "        vertical-align: top;\n",
       "    }\n",
       "\n",
       "    .dataframe thead th {\n",
       "        text-align: right;\n",
       "    }\n",
       "</style>\n",
       "<table border=\"1\" class=\"dataframe\">\n",
       "  <thead>\n",
       "    <tr style=\"text-align: right;\">\n",
       "      <th></th>\n",
       "      <th>Condition</th>\n",
       "      <th>Count</th>\n",
       "    </tr>\n",
       "  </thead>\n",
       "  <tbody>\n",
       "    <tr>\n",
       "      <th>0</th>\n",
       "      <td>Good</td>\n",
       "      <td>1168</td>\n",
       "    </tr>\n",
       "    <tr>\n",
       "      <th>1</th>\n",
       "      <td>Very Good</td>\n",
       "      <td>381</td>\n",
       "    </tr>\n",
       "    <tr>\n",
       "      <th>2</th>\n",
       "      <td>Fair</td>\n",
       "      <td>1598</td>\n",
       "    </tr>\n",
       "    <tr>\n",
       "      <th>3</th>\n",
       "      <td>Poor</td>\n",
       "      <td>402</td>\n",
       "    </tr>\n",
       "    <tr>\n",
       "      <th>4</th>\n",
       "      <td>Dead</td>\n",
       "      <td>218</td>\n",
       "    </tr>\n",
       "    <tr>\n",
       "      <th>5</th>\n",
       "      <td>Critical</td>\n",
       "      <td>74</td>\n",
       "    </tr>\n",
       "    <tr>\n",
       "      <th>6</th>\n",
       "      <td>None</td>\n",
       "      <td>106</td>\n",
       "    </tr>\n",
       "    <tr>\n",
       "      <th>7</th>\n",
       "      <td>Very Poor</td>\n",
       "      <td>83</td>\n",
       "    </tr>\n",
       "    <tr>\n",
       "      <th>8</th>\n",
       "      <td>Excellent</td>\n",
       "      <td>163</td>\n",
       "    </tr>\n",
       "  </tbody>\n",
       "</table>\n",
       "</div>"
      ],
      "text/plain": [
       "   Condition  Count\n",
       "0       Good   1168\n",
       "1  Very Good    381\n",
       "2       Fair   1598\n",
       "3       Poor    402\n",
       "4       Dead    218\n",
       "5   Critical     74\n",
       "6       None    106\n",
       "7  Very Poor     83\n",
       "8  Excellent    163"
      ]
     },
     "execution_count": 420,
     "metadata": {},
     "output_type": "execute_result"
    }
   ],
   "source": [
    "# Were these already in the order you would want them to be in order for a graph to make sense? \n",
    "# If not, reorder  the Series.\n",
    "df3"
   ]
  },
  {
   "cell_type": "code",
   "execution_count": 421,
   "metadata": {
    "tags": []
   },
   "outputs": [
    {
     "data": {
      "text/plain": [
       "<Axes: ylabel='Condition'>"
      ]
     },
     "execution_count": 421,
     "metadata": {},
     "output_type": "execute_result"
    },
    {
     "data": {
      "image/png": "[encoded data removed]",
      "text/plain": [
       "<Figure size 640x480 with 1 Axes>"
      ]
     },
     "metadata": {},
     "output_type": "display_data"
    }
   ],
   "source": [
    "# Plot the Series here\n",
    "df3.plot.barh(x=\"Condition\", y=\"Count\", rot=0)"
   ]
  },
  {
   "cell_type": "code",
   "execution_count": 422,
   "metadata": {
    "tags": []
   },
   "outputs": [
    {
     "data": {
      "text/plain": [
       "106"
      ]
     },
     "execution_count": 422,
     "metadata": {},
     "output_type": "execute_result"
    }
   ],
   "source": [
    "# How many entries have missing values for the COND attribute? Why are these values missing?\n",
    "nothing"
   ]
  },
  {
   "cell_type": "markdown",
   "metadata": {},
   "source": [
    "# Plot a pie chart using the RISK attribute."
   ]
  },
  {
   "cell_type": "markdown",
   "metadata": {},
   "source": [
    "resources:\n",
    "* [Pandas Series Pie](https://pandas.pydata.org/pandas-docs/stable/reference/api/pandas.Series.plot.pie.html#pandas.Series.plot.pie)\n",
    "* [matplotlib pie chart docs](https://matplotlib.org/api/pyplot_api.html#matplotlib.pyplot.pie)"
   ]
  },
  {
   "cell_type": "code",
   "execution_count": 423,
   "metadata": {
    "tags": []
   },
   "outputs": [
    {
     "data": {
      "text/plain": [
       "array(['Low', 'Moderate', 'None', 'High'], dtype=object)"
      ]
     },
     "execution_count": 423,
     "metadata": {},
     "output_type": "execute_result"
    }
   ],
   "source": [
    "# How can we determine all of the possible values describing the RISK associated with each tree\n",
    "# along with the corresponding row counts?\n",
    "df2['RISK'].unique()"
   ]
  },
  {
   "cell_type": "code",
   "execution_count": null,
   "metadata": {},
   "outputs": [],
   "source": [
    "# How can we determine all of the possible values describing the RISK associated with each tree\n",
    "# along with the corresponding row counts?\n"
   ]
  },
  {
   "cell_type": "code",
   "execution_count": null,
   "metadata": {},
   "outputs": [],
   "source": [
    "# Create an array containing the colors green, yellow, and orange\n",
    "# When we create our pie chart, the colors should be associated with the attributes according to the specifications below:\n",
    "# Green -> Low\n",
    "# Yellow -> Moderate\n",
    "# Orange -> High\n"
   ]
  },
  {
   "cell_type": "code",
   "execution_count": null,
   "metadata": {},
   "outputs": [],
   "source": [
    "# Plot the pie chart here\n"
   ]
  },
  {
   "cell_type": "code",
   "execution_count": null,
   "metadata": {},
   "outputs": [],
   "source": [
    "# How many entries have missing values for the RISK attribute? Why are these values missing?\n"
   ]
  },
  {
   "cell_type": "markdown",
   "metadata": {},
   "source": [
    "# Indexing"
   ]
  },
  {
   "cell_type": "code",
   "execution_count": null,
   "metadata": {},
   "outputs": [],
   "source": [
    "# Display row by position 1\n"
   ]
  },
  {
   "cell_type": "code",
   "execution_count": null,
   "metadata": {},
   "outputs": [],
   "source": [
    "# Display row by label 1\n"
   ]
  },
  {
   "cell_type": "code",
   "execution_count": null,
   "metadata": {},
   "outputs": [],
   "source": []
  }
 ],
 "metadata": {
  "kernelspec": {
   "display_name": "Python 3 (ipykernel)",
   "language": "python",
   "name": "python3"
  },
  "language_info": {
   "codemirror_mode": {
    "name": "ipython",
    "version": 3
   },
   "file_extension": ".py",
   "mimetype": "text/x-python",
   "name": "python",
   "nbconvert_exporter": "python",
   "pygments_lexer": "ipython3",
   "version": "3.11.5"
  }
 },
 "nbformat": 4,
 "nbformat_minor": 4
}
